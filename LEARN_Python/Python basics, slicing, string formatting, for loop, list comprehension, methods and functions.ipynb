{
 "cells": [
  {
   "cell_type": "code",
   "execution_count": 10,
   "id": "d8150bec",
   "metadata": {},
   "outputs": [],
   "source": [
    "#String properties and methods\n",
    "x = \"Hello World, I'm wsedrftgh\"\n",
    "x= x.lower()"
   ]
  },
  {
   "cell_type": "code",
   "execution_count": 11,
   "id": "8865bea8",
   "metadata": {},
   "outputs": [
    {
     "data": {
      "text/plain": [
       "['hello ', \"orld, i'm \", 'sedrftgh']"
      ]
     },
     "execution_count": 11,
     "metadata": {},
     "output_type": "execute_result"
    }
   ],
   "source": [
    "x.split(\"w\")"
   ]
  },
  {
   "cell_type": "code",
   "execution_count": 15,
   "id": "f66d180b",
   "metadata": {},
   "outputs": [
    {
     "name": "stdout",
     "output_type": "stream",
     "text": [
      "Python Heuy\n"
     ]
    }
   ],
   "source": [
    "#Print formatting with strings\n",
    "#.format\n",
    "print(\"Python {}\".format(\"Heuy\"))"
   ]
  },
  {
   "cell_type": "code",
   "execution_count": 21,
   "id": "5c71d4a1",
   "metadata": {},
   "outputs": [
    {
     "name": "stdout",
     "output_type": "stream",
     "text": [
      "well Shreya done\n"
     ]
    }
   ],
   "source": [
    "print(\"{} {} {}\".format(\"well\",\"Shreya\",\"done\"))"
   ]
  },
  {
   "cell_type": "code",
   "execution_count": 20,
   "id": "aded163f",
   "metadata": {},
   "outputs": [
    {
     "name": "stdout",
     "output_type": "stream",
     "text": [
      "Well done, Shreya\n"
     ]
    }
   ],
   "source": [
    "print(\"{0} {2} {1}\".format(\"Well\",\"Shreya\",\"done,\"))"
   ]
  },
  {
   "cell_type": "code",
   "execution_count": 23,
   "id": "42467f74",
   "metadata": {},
   "outputs": [
    {
     "name": "stdout",
     "output_type": "stream",
     "text": [
      "Well done, Shreya\n"
     ]
    }
   ],
   "source": [
    "print(\"{a} {c} {b}\".format(a=\"Well\",b=\"Shreya\",c=\"done,\"))"
   ]
  },
  {
   "cell_type": "code",
   "execution_count": 32,
   "id": "08e9c47b",
   "metadata": {},
   "outputs": [
    {
     "name": "stdout",
     "output_type": "stream",
     "text": [
      "Value is 0.03937\n"
     ]
    }
   ],
   "source": [
    "#float formatting method\n",
    "k = 123/3124\n",
    "#print(k)\n",
    "print(\"Value is {value:1.5f}\".format(value = k))"
   ]
  },
  {
   "cell_type": "code",
   "execution_count": 35,
   "id": "51386775",
   "metadata": {},
   "outputs": [
    {
     "name": "stdout",
     "output_type": "stream",
     "text": [
      "Hey, Shrey\n"
     ]
    }
   ],
   "source": [
    "# \"f\" strings method\n",
    "name = \"Shrey\"\n",
    "print(f\"Hey, {name}\")"
   ]
  },
  {
   "cell_type": "code",
   "execution_count": 38,
   "id": "8af49dab",
   "metadata": {},
   "outputs": [
    {
     "name": "stdout",
     "output_type": "stream",
     "text": [
      "Shreya is 23 years old.\n"
     ]
    }
   ],
   "source": [
    "name = \"Shreya\"; age = 23\n",
    "print(f\"{name} is {age} years old.\")"
   ]
  },
  {
   "cell_type": "code",
   "execution_count": 39,
   "id": "035dd959",
   "metadata": {},
   "outputs": [
    {
     "name": "stdout",
     "output_type": "stream",
     "text": [
      "Python rules!\n"
     ]
    }
   ],
   "source": [
    "z = \"rules\";\n",
    "print(f'Python {z}!')"
   ]
  },
  {
   "cell_type": "code",
   "execution_count": 43,
   "id": "64958d4c",
   "metadata": {},
   "outputs": [
    {
     "data": {
      "text/plain": [
       "{'i', 's', 'y'}"
      ]
     },
     "execution_count": 43,
     "metadata": {},
     "output_type": "execute_result"
    }
   ],
   "source": [
    "#Turining string into set of unique letters\n",
    "set('sissy')"
   ]
  },
  {
   "cell_type": "code",
   "execution_count": 56,
   "id": "eb981b43",
   "metadata": {},
   "outputs": [
    {
     "name": "stdout",
     "output_type": "stream",
     "text": [
      "1\n",
      "2\n",
      "3\n",
      "4\n",
      "5\n",
      "6\n"
     ]
    }
   ],
   "source": [
    "# Tuple unpacking\n",
    "list = [(1,2),(3,4),(5,6)]\n",
    "for a,b in list:\n",
    "    print (a)\n",
    "    print (b)"
   ]
  },
  {
   "cell_type": "code",
   "execution_count": 57,
   "id": "fe4f0a1c",
   "metadata": {},
   "outputs": [
    {
     "name": "stdout",
     "output_type": "stream",
     "text": [
      "{1, 2, 6}\n",
      "{3, 4}\n",
      "{1, 3, 5, 6}\n"
     ]
    }
   ],
   "source": [
    "list1 = [(1,2,6,1),(3,3,4),(1,3,5,6)]\n",
    "for i in list1:\n",
    "    print(set(i))"
   ]
  },
  {
   "cell_type": "code",
   "execution_count": 69,
   "id": "8b8e6e24",
   "metadata": {},
   "outputs": [
    {
     "name": "stdout",
     "output_type": "stream",
     "text": [
      "k1\n",
      "k2\n",
      "k3\n",
      "dict_items([('k1', 1), ('k2', 2), ('k3', 3)])\n",
      "dict_values([1, 2, 3])\n",
      "dict_keys(['k1', 'k2', 'k3'])\n"
     ]
    }
   ],
   "source": [
    "# Iteration in dictionaries\n",
    "d = {'k1':1, 'k2':2, 'k3':3}\n",
    "for i in d:\n",
    "    print(i)\n",
    "print(d.items())\n",
    "print(d.values())\n",
    "print(d.keys())"
   ]
  },
  {
   "cell_type": "code",
   "execution_count": 73,
   "id": "08e814ac",
   "metadata": {},
   "outputs": [
    {
     "name": "stdout",
     "output_type": "stream",
     "text": [
      "Hi\n"
     ]
    }
   ],
   "source": [
    "flag = True;\n",
    "while(flag):\n",
    "    print(\"Hi\")\n",
    "    flag = False;\n"
   ]
  },
  {
   "cell_type": "code",
   "execution_count": 76,
   "id": "23e188d0",
   "metadata": {},
   "outputs": [
    {
     "data": {
      "text/plain": [
       "['h', 'e', 'y']"
      ]
     },
     "execution_count": 76,
     "metadata": {},
     "output_type": "execute_result"
    }
   ],
   "source": [
    "# List comprehension\n",
    "# It is faster than for loops, uses less iterations.\n",
    "String1 = \"hey\"\n",
    "list1 = [x for x in String1]\n",
    "list1"
   ]
  },
  {
   "cell_type": "code",
   "execution_count": 79,
   "id": "978c10a1",
   "metadata": {},
   "outputs": [
    {
     "data": {
      "text/plain": [
       "['h', 'e', 'y']"
      ]
     },
     "execution_count": 79,
     "metadata": {},
     "output_type": "execute_result"
    }
   ],
   "source": [
    "list2 = [x for x in 'hey']\n",
    "list2"
   ]
  },
  {
   "cell_type": "code",
   "execution_count": 81,
   "id": "942c6564",
   "metadata": {},
   "outputs": [
    {
     "data": {
      "text/plain": [
       "[0, 1, 2, 3, 4]"
      ]
     },
     "execution_count": 81,
     "metadata": {},
     "output_type": "execute_result"
    }
   ],
   "source": [
    "list3 = [num for num in range(0,5)]\n",
    "list3"
   ]
  },
  {
   "cell_type": "code",
   "execution_count": 86,
   "id": "7526a22f",
   "metadata": {},
   "outputs": [
    {
     "data": {
      "text/plain": [
       "[0, 1, 4, 9, 16]"
      ]
     },
     "execution_count": 86,
     "metadata": {},
     "output_type": "execute_result"
    }
   ],
   "source": [
    "list4 = [num**2 for num in range(0,5)] #squared the numbers.\n",
    "list4"
   ]
  },
  {
   "cell_type": "code",
   "execution_count": 89,
   "id": "41ee61ad",
   "metadata": {},
   "outputs": [
    {
     "data": {
      "text/plain": [
       "[0, 4, 16]"
      ]
     },
     "execution_count": 89,
     "metadata": {},
     "output_type": "execute_result"
    }
   ],
   "source": [
    "list5 = [num**2 for num in range(0,5) if num%2 ==0] #squared the numbers, only for even numbers.\n",
    "list5"
   ]
  },
  {
   "cell_type": "code",
   "execution_count": 97,
   "id": "656abab5",
   "metadata": {},
   "outputs": [
    {
     "name": "stdout",
     "output_type": "stream",
     "text": [
      "start\n",
      "s\n",
      "sentence\n"
     ]
    }
   ],
   "source": [
    "st = \"Print only the words that start with an s in this sentence\"\n",
    "\n",
    "for i in st.split():\n",
    "    if(i[0]) =='s':\n",
    "        print(i)\n",
    "    "
   ]
  },
  {
   "cell_type": "code",
   "execution_count": 109,
   "id": "aac58638",
   "metadata": {},
   "outputs": [
    {
     "data": {
      "text/plain": [
       "[0, 1, 2, 3, 4, 5, 6, 7, 8, 9]"
      ]
     },
     "execution_count": 109,
     "metadata": {},
     "output_type": "execute_result"
    }
   ],
   "source": [
    "# Use range() to print all the even numbers from 0 to 10.\n",
    "[x for x in range(0,10)]\n"
   ]
  },
  {
   "cell_type": "code",
   "execution_count": 108,
   "id": "92a26edc",
   "metadata": {},
   "outputs": [
    {
     "data": {
      "text/plain": [
       "[3, 6, 9, 12, 15, 18, 21, 24, 27, 30, 33, 36, 39, 42, 45, 48]"
      ]
     },
     "execution_count": 108,
     "metadata": {},
     "output_type": "execute_result"
    }
   ],
   "source": [
    "# Use a List Comprehension to create a list of all numbers between 1 and 50 that are divisible by 3.\n",
    "[x for x in range(1,51) if x%3==0]"
   ]
  },
  {
   "cell_type": "code",
   "execution_count": 113,
   "id": "b26d97c0",
   "metadata": {},
   "outputs": [
    {
     "name": "stdout",
     "output_type": "stream",
     "text": [
      "word\n",
      "in\n",
      "this\n",
      "sentence\n",
      "that\n",
      "an\n",
      "even\n",
      "number\n",
      "of\n"
     ]
    }
   ],
   "source": [
    "# Go through the string below and if the length of a word is even print \"even!\"\n",
    "st = 'Print every word in this sentence that has an even number of letters'\n",
    "for x in st.split():\n",
    "    if(len(x)%2==0):\n",
    "        print(x)"
   ]
  },
  {
   "cell_type": "code",
   "execution_count": 123,
   "id": "e1cfad11",
   "metadata": {},
   "outputs": [
    {
     "name": "stdout",
     "output_type": "stream",
     "text": [
      "FizzBuzz\n",
      "FizzBuzz\n",
      "FizzBuzz\n",
      "FizzBuzz\n",
      "FizzBuzz\n",
      "FizzBuzz\n"
     ]
    }
   ],
   "source": [
    "# Write a program that prints the integers from 1 to 100. But for multiples of three print \"Fizz\" instead of the number, \n",
    "# and for the multiples of five print \"Buzz\". \n",
    "# For numbers which are multiples of both three and five print \"FizzBuzz\".\n",
    "\n",
    "for i in range(1,101):\n",
    "    if(i%3==0 and i%5 !=0):\n",
    "        pass#print(\"Fizz\")\n",
    "    elif(i%5==0 and i%3 !=0):\n",
    "        pass#print(\"Buzz\")\n",
    "    elif(i%3==0 and i%5==0):\n",
    "        print(\"FizzBuzz\")\n",
    "    else:\n",
    "        pass#print(i)"
   ]
  },
  {
   "cell_type": "code",
   "execution_count": 129,
   "id": "23bed2bd",
   "metadata": {},
   "outputs": [
    {
     "data": {
      "text/plain": [
       "['C', 'a', 'l', 'o', 't', 'f', 'l', 'o', 'e', 'w', 'i', 't', 's']"
      ]
     },
     "execution_count": 129,
     "metadata": {},
     "output_type": "execute_result"
    }
   ],
   "source": [
    "# Use List Comprehension to create a list of the first letters of every word in the string below:\n",
    "st = 'Create a list of the first letters of every word in this string'\n",
    "[x[0] for x in st.split() ]"
   ]
  },
  {
   "cell_type": "code",
   "execution_count": 132,
   "id": "06a164e5",
   "metadata": {},
   "outputs": [],
   "source": [
    "# Defining a function\n",
    "def name_of_func():\n",
    "    print(\"Hi\")"
   ]
  },
  {
   "cell_type": "markdown",
   "id": "364a0ce1",
   "metadata": {},
   "source": []
  },
  {
   "cell_type": "code",
   "execution_count": 133,
   "id": "75d6bd73",
   "metadata": {},
   "outputs": [
    {
     "name": "stdout",
     "output_type": "stream",
     "text": [
      "Hi\n"
     ]
    }
   ],
   "source": [
    "name_of_func()"
   ]
  },
  {
   "cell_type": "code",
   "execution_count": 134,
   "id": "e8e6f290",
   "metadata": {},
   "outputs": [],
   "source": [
    "def hi_name(name):\n",
    "    print(f\"Hey, {name}\")"
   ]
  },
  {
   "cell_type": "code",
   "execution_count": 135,
   "id": "6a5a6e38",
   "metadata": {},
   "outputs": [
    {
     "name": "stdout",
     "output_type": "stream",
     "text": [
      "Hey, Shrey\n"
     ]
    }
   ],
   "source": [
    "hi_name(\"Shrey\")"
   ]
  },
  {
   "cell_type": "code",
   "execution_count": null,
   "id": "37f07e83",
   "metadata": {},
   "outputs": [],
   "source": []
  }
 ],
 "metadata": {
  "kernelspec": {
   "display_name": "Python 3 (ipykernel)",
   "language": "python",
   "name": "python3"
  },
  "language_info": {
   "codemirror_mode": {
    "name": "ipython",
    "version": 3
   },
   "file_extension": ".py",
   "mimetype": "text/x-python",
   "name": "python",
   "nbconvert_exporter": "python",
   "pygments_lexer": "ipython3",
   "version": "3.10.9"
  }
 },
 "nbformat": 4,
 "nbformat_minor": 5
}
