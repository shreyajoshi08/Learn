{
 "cells": [
  {
   "cell_type": "code",
   "execution_count": 1,
   "id": "8237185f",
   "metadata": {},
   "outputs": [
    {
     "name": "stdout",
     "output_type": "stream",
     "text": [
      "Hello WOrld\n"
     ]
    }
   ],
   "source": [
    "print(\"Hello WOrld\")"
   ]
  },
  {
   "cell_type": "code",
   "execution_count": 5,
   "id": "3bfe86ef",
   "metadata": {},
   "outputs": [
    {
     "name": "stdout",
     "output_type": "stream",
     "text": [
      "shreya is 26 years old\n"
     ]
    }
   ],
   "source": [
    "name = 'shreya'\n",
    "age = 26\n",
    "print(f\"{name} is {age} years old\")"
   ]
  },
  {
   "cell_type": "code",
   "execution_count": 9,
   "id": "89f38e0f",
   "metadata": {},
   "outputs": [
    {
     "name": "stdout",
     "output_type": "stream",
     "text": [
      "What's her last name? Joshi\n"
     ]
    }
   ],
   "source": [
    "last_name = input (\"What's her last name? \")"
   ]
  },
  {
   "cell_type": "code",
   "execution_count": 13,
   "id": "0b8c12c7",
   "metadata": {},
   "outputs": [
    {
     "name": "stdout",
     "output_type": "stream",
     "text": [
      "Hi shreya\n"
     ]
    }
   ],
   "source": [
    "print(\"Hi \"+ name)"
   ]
  },
  {
   "cell_type": "code",
   "execution_count": 21,
   "id": "f293ad07",
   "metadata": {},
   "outputs": [
    {
     "name": "stdout",
     "output_type": "stream",
     "text": [
      "Year born: 1997\n",
      "27\n"
     ]
    }
   ],
   "source": [
    "birth_year = input (\"Year born: \")\n",
    "age = 2024- int(birth_year)\n",
    "print(age)"
   ]
  },
  {
   "cell_type": "code",
   "execution_count": 30,
   "id": "ca080fc7",
   "metadata": {},
   "outputs": [
    {
     "name": "stdout",
     "output_type": "stream",
     "text": [
      "1st num: 10.1\n",
      "2nd num: 02\n",
      "Sum is:12.1\n"
     ]
    }
   ],
   "source": [
    "a = input(\"1st num: \")\n",
    "b = input(\"2nd num: \")\n",
    "print(\"Sum is:\" + str(float(a)+float(b)))\n"
   ]
  },
  {
   "cell_type": "code",
   "execution_count": null,
   "id": "65a5693d",
   "metadata": {},
   "outputs": [],
   "source": []
  }
 ],
 "metadata": {
  "kernelspec": {
   "display_name": "Python 3",
   "language": "python",
   "name": "python3"
  },
  "language_info": {
   "codemirror_mode": {
    "name": "ipython",
    "version": 3
   },
   "file_extension": ".py",
   "mimetype": "text/x-python",
   "name": "python",
   "nbconvert_exporter": "python",
   "pygments_lexer": "ipython3",
   "version": "3.8.8"
  }
 },
 "nbformat": 4,
 "nbformat_minor": 5
}
