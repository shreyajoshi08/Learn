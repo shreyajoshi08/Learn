{
 "cells": [
  {
   "cell_type": "code",
   "execution_count": 1,
   "id": "03b14259",
   "metadata": {},
   "outputs": [
    {
     "name": "stdout",
     "output_type": "stream",
     "text": [
      "Hello WOrld\n"
     ]
    }
   ],
   "source": [
    "print(\"Hello WOrld\")"
   ]
  },
  {
   "cell_type": "code",
   "execution_count": 5,
   "id": "4e3f8d7d",
   "metadata": {},
   "outputs": [
    {
     "name": "stdout",
     "output_type": "stream",
     "text": [
      "shreya is 26 years old\n"
     ]
    }
   ],
   "source": [
    "name = 'shreya'\n",
    "age = 26\n",
    "print(f\"{name} is {age} years old\")"
   ]
  },
  {
   "cell_type": "code",
   "execution_count": 9,
   "id": "59dc858e",
   "metadata": {},
   "outputs": [
    {
     "name": "stdout",
     "output_type": "stream",
     "text": [
      "What's her last name? Joshi\n"
     ]
    }
   ],
   "source": [
    "last_name = input (\"What's her last name? \")"
   ]
  },
  {
   "cell_type": "code",
   "execution_count": 13,
   "id": "26b595f8",
   "metadata": {},
   "outputs": [
    {
     "name": "stdout",
     "output_type": "stream",
     "text": [
      "Hi shreya\n"
     ]
    }
   ],
   "source": [
    "print(\"Hi \"+ name)"
   ]
  },
  {
   "cell_type": "code",
   "execution_count": 21,
   "id": "48f7de2e",
   "metadata": {},
   "outputs": [
    {
     "name": "stdout",
     "output_type": "stream",
     "text": [
      "Year born: 1997\n",
      "27\n"
     ]
    }
   ],
   "source": [
    "birth_year = input (\"Year born: \")\n",
    "age = 2024- int(birth_year)\n",
    "print(age)"
   ]
  },
  {
   "cell_type": "code",
   "execution_count": 30,
   "id": "ae87bbcb",
   "metadata": {},
   "outputs": [
    {
     "name": "stdout",
     "output_type": "stream",
     "text": [
      "1st num: 10.1\n",
      "2nd num: 02\n",
      "Sum is:12.1\n"
     ]
    }
   ],
   "source": [
    "a = input(\"1st num: \")\n",
    "b = input(\"2nd num: \")\n",
    "print(\"Sum is:\" + str(float(a)+float(b)))\n"
   ]
  },
  {
   "cell_type": "code",
   "execution_count": 38,
   "id": "9582b207",
   "metadata": {},
   "outputs": [
    {
     "name": "stdout",
     "output_type": "stream",
     "text": [
      "PYTHON FOR BEGINNERS\n",
      "python for beginners\n",
      "7\n",
      "Python lor beginners\n",
      "True\n"
     ]
    }
   ],
   "source": [
    "course = 'Python for beginners'\n",
    "print(course.upper())\n",
    "print(course.lower())\n",
    "print(course.find('fo'))\n",
    "print(course.replace('fo', 'lo'))\n",
    "#Strings are immutable\n",
    "\n",
    "print(\"Python\" in course)"
   ]
  },
  {
   "cell_type": "code",
   "execution_count": 44,
   "id": "91f473ea",
   "metadata": {},
   "outputs": [
    {
     "name": "stdout",
     "output_type": "stream",
     "text": [
      "13\n",
      "1.0\n",
      "1\n",
      "0\n",
      "8\n"
     ]
    }
   ],
   "source": [
    "print(10+3)\n",
    "print(2/2)\n",
    "print(2//2)\n",
    "print(2%2)\n",
    "print(2**3)"
   ]
  },
  {
   "cell_type": "code",
   "execution_count": 46,
   "id": "6963915e",
   "metadata": {},
   "outputs": [
    {
     "name": "stdout",
     "output_type": "stream",
     "text": [
      "True\n"
     ]
    }
   ],
   "source": [
    "x = 3>2\n",
    "print(x)"
   ]
  },
  {
   "cell_type": "code",
   "execution_count": 47,
   "id": "f2ef3d5c",
   "metadata": {},
   "outputs": [
    {
     "name": "stdout",
     "output_type": "stream",
     "text": [
      "True\n"
     ]
    }
   ],
   "source": [
    "value = 20\n",
    "print(value > 10 and value!=10)\n",
    "#and, or, not operators"
   ]
  },
  {
   "cell_type": "code",
   "execution_count": null,
   "id": "dd078462",
   "metadata": {},
   "outputs": [],
   "source": []
  }
 ],
 "metadata": {
  "kernelspec": {
   "display_name": "Python 3",
   "language": "python",
   "name": "python3"
  },
  "language_info": {
   "codemirror_mode": {
    "name": "ipython",
    "version": 3
   },
   "file_extension": ".py",
   "mimetype": "text/x-python",
   "name": "python",
   "nbconvert_exporter": "python",
   "pygments_lexer": "ipython3",
   "version": "3.8.8"
  }
 },
 "nbformat": 4,
 "nbformat_minor": 5
}
